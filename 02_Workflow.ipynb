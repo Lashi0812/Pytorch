{
 "cells": [
  {
   "cell_type": "markdown",
   "source": [
    "# Data Preparing and loading"
   ],
   "metadata": {
    "collapsed": false,
    "pycharm": {
     "name": "#%% md\n"
    }
   }
  },
  {
   "cell_type": "code",
   "execution_count": 1,
   "outputs": [],
   "source": [
    "import torch\n",
    "from torch import nn\n",
    "import matplotlib.pyplot as plt"
   ],
   "metadata": {
    "collapsed": false,
    "pycharm": {
     "name": "#%%\n"
    }
   }
  },
  {
   "cell_type": "code",
   "execution_count": 2,
   "outputs": [],
   "source": [
    "# create some data\n",
    "weight = 0.7\n",
    "bias = 0.3\n",
    "\n",
    "# create data\n",
    "X = torch.linspace(0.,1.,50).unsqueeze(dim=1)\n",
    "y = weight * X + bias"
   ],
   "metadata": {
    "collapsed": false,
    "pycharm": {
     "name": "#%%\n"
    }
   }
  },
  {
   "cell_type": "code",
   "execution_count": 3,
   "outputs": [
    {
     "data": {
      "text/plain": "(torch.Size([50, 1]), torch.Size([50, 1]))"
     },
     "execution_count": 3,
     "metadata": {},
     "output_type": "execute_result"
    }
   ],
   "source": [
    "X.shape,y.shape"
   ],
   "metadata": {
    "collapsed": false,
    "pycharm": {
     "name": "#%%\n"
    }
   }
  },
  {
   "cell_type": "code",
   "execution_count": 4,
   "outputs": [
    {
     "data": {
      "text/plain": "(torch.Size([40, 1]),\n torch.Size([40, 1]),\n torch.Size([10, 1]),\n torch.Size([10, 1]))"
     },
     "execution_count": 4,
     "metadata": {},
     "output_type": "execute_result"
    }
   ],
   "source": [
    "# split the data\n",
    "train_split = int(0.8 * len(X))\n",
    "\n",
    "X_train,y_train = X[:train_split],y[:train_split]\n",
    "X_test,y_test = X[train_split:] ,y[train_split:]\n",
    "\n",
    "X_train.shape,y_train.shape,X_test.shape,y_test.shape"
   ],
   "metadata": {
    "collapsed": false,
    "pycharm": {
     "name": "#%%\n"
    }
   }
  },
  {
   "cell_type": "code",
   "execution_count": 5,
   "outputs": [],
   "source": [
    "def plot_predictions(train_data_,train_labels_,test_data_,test_labels_,prediction_=None):\n",
    "    plt.figure(figsize=(4,3))\n",
    "    plt.scatter(train_data_,train_labels_,label=\"Training Data\")\n",
    "    plt.scatter(test_data_,test_labels_,label=\"Testing data\")\n",
    "    if prediction_ is not None:\n",
    "        plt.scatter(test_data_,prediction_,label=\"Prediction\")\n",
    "    plt.legend()\n",
    "    plt.show()"
   ],
   "metadata": {
    "collapsed": false,
    "pycharm": {
     "name": "#%%\n"
    }
   }
  },
  {
   "cell_type": "code",
   "execution_count": 6,
   "outputs": [
    {
     "data": {
      "text/plain": "<Figure size 400x300 with 1 Axes>",
      "image/png": "[encoded data removed]"
     },
     "metadata": {},
     "output_type": "display_data"
    }
   ],
   "source": [
    "plot_predictions(X_train,y_train,X_test,y_test)"
   ],
   "metadata": {
    "collapsed": false,
    "pycharm": {
     "name": "#%%\n"
    }
   }
  },
  {
   "cell_type": "markdown",
   "source": [
    "# Build the model"
   ],
   "metadata": {
    "collapsed": false,
    "pycharm": {
     "name": "#%% md\n"
    }
   }
  },
  {
   "cell_type": "markdown",
   "source": [
    "Parameters are Tensor subclasses, that have a very special property when used with Module s - when they’re assigned as Module attributes they are automatically added to the list of its parameters, and will appear e.g. in parameters() iterator."
   ],
   "metadata": {
    "collapsed": false,
    "pycharm": {
     "name": "#%% md\n"
    }
   }
  },
  {
   "cell_type": "code",
   "execution_count": 7,
   "outputs": [],
   "source": [
    "class LinearRegression(nn.Module):\n",
    "    def __init__(self):\n",
    "        super().__init__()\n",
    "        self.weights = nn.Parameter(torch.randn(1,requires_grad=True,\n",
    "                                               dtype=torch.float32))\n",
    "        self.bias = nn.Parameter(torch.randn(1,requires_grad=True,\n",
    "                                            dtype=torch.float32))\n",
    "\n",
    "    def forward(self,x:torch.Tensor)->torch.Tensor:\n",
    "        return self.weights * x + self.bias"
   ],
   "metadata": {
    "collapsed": false,
    "pycharm": {
     "name": "#%%\n"
    }
   }
  },
  {
   "cell_type": "markdown",
   "source": [
    "## View the parameter"
   ],
   "metadata": {
    "collapsed": false,
    "pycharm": {
     "name": "#%% md\n"
    }
   }
  },
  {
   "cell_type": "code",
   "execution_count": 8,
   "outputs": [
    {
     "data": {
      "text/plain": "[Parameter containing:\n tensor([0.3367], requires_grad=True),\n Parameter containing:\n tensor([0.1288], requires_grad=True)]"
     },
     "execution_count": 8,
     "metadata": {},
     "output_type": "execute_result"
    }
   ],
   "source": [
    "torch.manual_seed(42)\n",
    "\n",
    "model_0 = LinearRegression()\n",
    "\n",
    "list(model_0.parameters())"
   ],
   "metadata": {
    "collapsed": false,
    "pycharm": {
     "name": "#%%\n"
    }
   }
  },
  {
   "cell_type": "code",
   "execution_count": 9,
   "outputs": [
    {
     "data": {
      "text/plain": "OrderedDict([('weights', tensor([0.3367])), ('bias', tensor([0.1288]))])"
     },
     "execution_count": 9,
     "metadata": {},
     "output_type": "execute_result"
    }
   ],
   "source": [
    "# we can see the named parameter\n",
    "model_0.state_dict()"
   ],
   "metadata": {
    "collapsed": false,
    "pycharm": {
     "name": "#%%\n"
    }
   }
  },
  {
   "cell_type": "code",
   "execution_count": 10,
   "outputs": [
    {
     "data": {
      "text/plain": "Parameter containing:\ntensor([0.3367], requires_grad=True)"
     },
     "execution_count": 10,
     "metadata": {},
     "output_type": "execute_result"
    }
   ],
   "source": [
    "model_0.weights"
   ],
   "metadata": {
    "collapsed": false,
    "pycharm": {
     "name": "#%%\n"
    }
   }
  },
  {
   "cell_type": "markdown",
   "source": [
    "## Making prediction using `torch.inference_mode()`"
   ],
   "metadata": {
    "collapsed": false,
    "pycharm": {
     "name": "#%% md\n"
    }
   }
  },
  {
   "cell_type": "code",
   "execution_count": 11,
   "outputs": [
    {
     "data": {
      "text/plain": "tensor([[0.4037],\n        [0.4105],\n        [0.4174],\n        [0.4243],\n        [0.4311],\n        [0.4380],\n        [0.4449],\n        [0.4518],\n        [0.4586],\n        [0.4655]])"
     },
     "execution_count": 11,
     "metadata": {},
     "output_type": "execute_result"
    }
   ],
   "source": [
    "with torch.inference_mode():\n",
    "    y_pred = model_0(X_test)\n",
    "\n",
    "y_pred"
   ],
   "metadata": {
    "collapsed": false,
    "pycharm": {
     "name": "#%%\n"
    }
   }
  },
  {
   "cell_type": "code",
   "execution_count": 12,
   "outputs": [
    {
     "data": {
      "text/plain": "<Figure size 400x300 with 1 Axes>",
      "image/png": "[encoded data removed]"
     },
     "metadata": {},
     "output_type": "display_data"
    }
   ],
   "source": [
    "plot_predictions(X_train,y_train,X_test,y_test,y_pred)"
   ],
   "metadata": {
    "collapsed": false,
    "pycharm": {
     "name": "#%%\n"
    }
   }
  },
  {
   "cell_type": "markdown",
   "source": [
    "**what is special about the inference mode?**\n",
    "1. it disables the autograd mechanism.\n",
    "2. So it speed up the process.\n",
    "\n",
    "**Disadvantage:**\n",
    "1. Inference tensor cant be used outside  InferenceMode for autograd operation.\n",
    "2. Inference tenor cant be modified inplace operation outside the inference mode."
   ],
   "metadata": {
    "collapsed": false,
    "pycharm": {
     "name": "#%% md\n"
    }
   }
  },
  {
   "cell_type": "code",
   "execution_count": 13,
   "outputs": [
    {
     "data": {
      "text/plain": "tensor([[0.4037],\n        [0.4105],\n        [0.4174],\n        [0.4243],\n        [0.4311],\n        [0.4380],\n        [0.4449],\n        [0.4518],\n        [0.4586],\n        [0.4655]], grad_fn=<AddBackward0>)"
     },
     "execution_count": 13,
     "metadata": {},
     "output_type": "execute_result"
    }
   ],
   "source": [
    "# without inference mode , pytorch track the autograd\n",
    "model_0(X_test)\n",
    "#? you can see the grad function"
   ],
   "metadata": {
    "collapsed": false,
    "pycharm": {
     "name": "#%%\n"
    }
   }
  },
  {
   "cell_type": "code",
   "execution_count": 14,
   "outputs": [
    {
     "name": "stdout",
     "output_type": "stream",
     "text": [
      "Inference tensors cannot be saved for backward. To work around you can make a clone to get a normal tensor and use it in autograd.\n"
     ]
    }
   ],
   "source": [
    "# cant use outside the inference context\n",
    "with torch.inference_mode():\n",
    "    a = torch.rand(1)\n",
    "\n",
    "b = torch.rand(2,requires_grad=True)\n",
    "try:\n",
    "    a*b\n",
    "except RuntimeError as err:\n",
    "    print(err)"
   ],
   "metadata": {
    "collapsed": false,
    "pycharm": {
     "name": "#%%\n"
    }
   }
  },
  {
   "cell_type": "code",
   "execution_count": 15,
   "outputs": [
    {
     "data": {
      "text/plain": "tensor([0.2346, 0.1002], grad_fn=<MulBackward0>)"
     },
     "execution_count": 15,
     "metadata": {},
     "output_type": "execute_result"
    }
   ],
   "source": [
    "b * a.clone()"
   ],
   "metadata": {
    "collapsed": false,
    "pycharm": {
     "name": "#%%\n"
    }
   }
  },
  {
   "cell_type": "code",
   "execution_count": 16,
   "outputs": [
    {
     "name": "stdout",
     "output_type": "stream",
     "text": [
      "Inplace update to inference tensor outside InferenceMode is not allowed.You can make a clone to get a normal tensor before doing inplace update.See https://github.com/pytorch/rfcs/pull/17 for more details.\n"
     ]
    }
   ],
   "source": [
    "# cant perform the inplace operation\n",
    "with torch.inference_mode():\n",
    "    a = torch.rand(1)\n",
    "\n",
    "try:\n",
    "    a += a\n",
    "except RuntimeError as err:\n",
    "    print(err)"
   ],
   "metadata": {
    "collapsed": false,
    "pycharm": {
     "name": "#%%\n"
    }
   }
  },
  {
   "cell_type": "markdown",
   "source": [
    "# Train Model\n",
    "\n",
    "Thing we need to train :\n",
    "1. **Loss Function :** A function to measure how wrong your model prediction are to ideal output.\n",
    "2. **Optimiser :** Take into account of the loss of model , and learn more about the data , by updating the parameters.\n",
    "\n",
    "For pytorch:\n",
    "* a training loop\n",
    "* a testing loop"
   ],
   "metadata": {
    "collapsed": false,
    "pycharm": {
     "name": "#%% md\n"
    }
   }
  },
  {
   "cell_type": "markdown",
   "source": [
    "## Setup loss function"
   ],
   "metadata": {
    "collapsed": false,
    "pycharm": {
     "name": "#%% md\n"
    }
   }
  },
  {
   "cell_type": "code",
   "execution_count": 17,
   "outputs": [],
   "source": [
    "loss_fn = nn.L1Loss()"
   ],
   "metadata": {
    "collapsed": false,
    "pycharm": {
     "name": "#%%\n"
    }
   }
  },
  {
   "cell_type": "markdown",
   "source": [
    "## Set optimizer"
   ],
   "metadata": {
    "collapsed": false,
    "pycharm": {
     "name": "#%% md\n"
    }
   }
  },
  {
   "cell_type": "code",
   "execution_count": 18,
   "outputs": [],
   "source": [
    "optimizer = torch.optim.SGD(params=model_0.parameters(),\n",
    "                            lr=0.01)"
   ],
   "metadata": {
    "collapsed": false,
    "pycharm": {
     "name": "#%%\n"
    }
   }
  },
  {
   "cell_type": "markdown",
   "source": [
    "## Building the triangle loop\n",
    "1. Loop through the data.\n",
    "2. Forward pass\n",
    "3. Calculate loss\n",
    "4. Backpropagation the error\n",
    "5. update the parameter using the gradient descent"
   ],
   "metadata": {
    "collapsed": false,
    "pycharm": {
     "name": "#%% md\n"
    }
   }
  },
  {
   "cell_type": "code",
   "execution_count": 19,
   "outputs": [
    {
     "name": "stdout",
     "output_type": "stream",
     "text": [
      "Epoch :9  | Loss : 0.211520  | Test loss : 0.364994\n",
      "OrderedDict([('weights', tensor([0.3765])), ('bias', tensor([0.2288]))])\n",
      "Epoch :19  | Loss : 0.098487  | Test loss : 0.231917\n",
      "OrderedDict([('weights', tensor([0.4162])), ('bias', tensor([0.3258]))])\n",
      "Epoch :29  | Loss : 0.055434  | Test loss : 0.151549\n",
      "OrderedDict([('weights', tensor([0.4508])), ('bias', tensor([0.3748]))])\n",
      "Epoch :39  | Loss : 0.046278  | Test loss : 0.116373\n",
      "OrderedDict([('weights', tensor([0.4757])), ('bias', tensor([0.3873]))])\n",
      "Epoch :49  | Loss : 0.042223  | Test loss : 0.100580\n",
      "OrderedDict([('weights', tensor([0.4953])), ('bias', tensor([0.3853]))])\n",
      "Epoch :59  | Loss : 0.038608  | Test loss : 0.089594\n",
      "OrderedDict([('weights', tensor([0.5135])), ('bias', tensor([0.3798]))])\n",
      "Epoch :69  | Loss : 0.035052  | Test loss : 0.081387\n",
      "OrderedDict([('weights', tensor([0.5308])), ('bias', tensor([0.3723]))])\n",
      "Epoch :79  | Loss : 0.031496  | Test loss : 0.072484\n",
      "OrderedDict([('weights', tensor([0.5483])), ('bias', tensor([0.3653]))])\n",
      "Epoch :89  | Loss : 0.027945  | Test loss : 0.064277\n",
      "OrderedDict([('weights', tensor([0.5656])), ('bias', tensor([0.3578]))])\n",
      "Epoch :99  | Loss : 0.024393  | Test loss : 0.056069\n",
      "OrderedDict([('weights', tensor([0.5829])), ('bias', tensor([0.3503]))])\n"
     ]
    }
   ],
   "source": [
    "# num of epochs\n",
    "epochs = 100\n",
    "\n",
    "# 1. Loop through the data\n",
    "for epoch in range(epochs):\n",
    "    # set the model to training mode\n",
    "    # pytorch set all the parameter that require for gradient\n",
    "    model_0.train()\n",
    "\n",
    "    # 2. forward pass\n",
    "    y_pred = model_0(X_train)\n",
    "\n",
    "    # 3. Calculate the loss\n",
    "    loss = loss_fn(y_pred,y_train)\n",
    "\n",
    "    #! 4. optimiser zero grad\n",
    "    optimizer.zero_grad()\n",
    "\n",
    "    # 4. back propagate the errors\n",
    "    loss.backward()\n",
    "\n",
    "    # 5. update teh parameter using the gradient decent\n",
    "    optimizer.step()\n",
    "    #! by default how the optimiser change will accumulate change through the loop, we have to zero them before backpropagation to error.\n",
    "\n",
    "\n",
    "    # return the gradient tracking\n",
    "    model_0.eval() # turn off the dropout / batch normalization\n",
    "    with torch.inference_mode():\n",
    "        # 1. do the forward pass\n",
    "        test_pred = model_0(X_test)\n",
    "        # 2. calculate the test loss\n",
    "        test_loss = loss_fn(test_pred,y_test)\n",
    "\n",
    "    # print what happening\n",
    "    if (epoch+1) % 10 == 0:\n",
    "        print(f'Epoch :{epoch}  | Loss : {loss.item():.6f}  | Test loss : {test_loss.item():.6f}')\n",
    "        print(model_0.state_dict())\n"
   ],
   "metadata": {
    "collapsed": false,
    "pycharm": {
     "name": "#%%\n"
    }
   }
  },
  {
   "cell_type": "markdown",
   "source": [
    "# Load and saving\n",
    "\n",
    "There are three main methods for saving and loading the model\n",
    "\n",
    "1. `torch.save()` - save the model using the pickle.\n",
    "2. `torch.load()` - load the model\n",
    "3. `torch.nn.Module.load_state_dict()` - allows to load teh model saved state dictionary."
   ],
   "metadata": {
    "collapsed": false,
    "pycharm": {
     "name": "#%% md\n"
    }
   }
  },
  {
   "cell_type": "markdown",
   "source": [
    "## Saving the model state dict"
   ],
   "metadata": {
    "collapsed": false,
    "pycharm": {
     "name": "#%% md\n"
    }
   }
  },
  {
   "cell_type": "code",
   "execution_count": 20,
   "outputs": [],
   "source": [
    "from pathlib import Path\n",
    "\n",
    "# 1. Create model directory\n",
    "MODEL_PATH = Path(\"models\")\n",
    "MODEL_PATH.mkdir(parents=True,exist_ok=True)\n",
    "\n",
    "# 2. Create model save path\n",
    "MODEl_NAME = \"02_workflow_model_0_state_dict.pth\"\n",
    "MODEL_SAVE_PATH = MODEL_PATH / MODEl_NAME\n",
    "\n",
    "# 3. Save the model state\n",
    "torch.save(obj=model_0.state_dict(),\n",
    "           f=MODEL_SAVE_PATH)"
   ],
   "metadata": {
    "collapsed": false,
    "pycharm": {
     "name": "#%%\n"
    }
   }
  },
  {
   "cell_type": "markdown",
   "source": [
    "## Load the model save dict\n",
    "Since we save the model state dict , so we have to create instance of the model and we have to load the model state dict to save dict."
   ],
   "metadata": {
    "collapsed": false,
    "pycharm": {
     "name": "#%% md\n"
    }
   }
  },
  {
   "cell_type": "code",
   "execution_count": 21,
   "outputs": [
    {
     "data": {
      "text/plain": "<All keys matched successfully>"
     },
     "execution_count": 21,
     "metadata": {},
     "output_type": "execute_result"
    }
   ],
   "source": [
    "load_model_0  = LinearRegression()\n",
    "load_model_0.load_state_dict(torch.load(f=MODEL_SAVE_PATH))"
   ],
   "metadata": {
    "collapsed": false,
    "pycharm": {
     "name": "#%%\n"
    }
   }
  },
  {
   "cell_type": "code",
   "execution_count": 22,
   "outputs": [
    {
     "name": "stdout",
     "output_type": "stream",
     "text": [
      "Training Loss : 0.024035830050706863\n",
      "Testing  Loss : 0.056069474667310715\n"
     ]
    }
   ],
   "source": [
    "load_model_0.eval()\n",
    "with torch.inference_mode():\n",
    "    print(f\"Training Loss : {nn.L1Loss()(load_model_0(X_train),y_train)}\")\n",
    "    print(f\"Testing  Loss : {nn.L1Loss()(load_model_0(X_test),y_test)}\")"
   ],
   "metadata": {
    "collapsed": false,
    "pycharm": {
     "name": "#%%\n"
    }
   }
  },
  {
   "cell_type": "markdown",
   "source": [
    "## Saving the whole model"
   ],
   "metadata": {
    "collapsed": false,
    "pycharm": {
     "name": "#%% md\n"
    }
   }
  },
  {
   "cell_type": "code",
   "execution_count": 24,
   "outputs": [],
   "source": [
    "MODEl_NAME = \"02_workflow_model_0.pth\"\n",
    "MODEL_SAVE_PATH = MODEL_PATH / MODEl_NAME\n",
    "\n",
    "torch.save(obj=model_0,\n",
    "           f=MODEL_SAVE_PATH)"
   ],
   "metadata": {
    "collapsed": false,
    "pycharm": {
     "name": "#%%\n"
    }
   }
  },
  {
   "cell_type": "markdown",
   "source": [
    "## Loading the whole model\n",
    "\n",
    "Since we save eh whole model , there is no need to crete the instance of the model."
   ],
   "metadata": {
    "collapsed": false,
    "pycharm": {
     "name": "#%% md\n"
    }
   }
  },
  {
   "cell_type": "code",
   "execution_count": 25,
   "outputs": [
    {
     "name": "stdout",
     "output_type": "stream",
     "text": [
      "Training Loss : 0.024035830050706863\n",
      "Testing  Loss : 0.056069474667310715\n"
     ]
    }
   ],
   "source": [
    "load_model_0 = torch.load(f=MODEL_SAVE_PATH)\n",
    "load_model_0.eval()\n",
    "\n",
    "with torch.inference_mode():\n",
    "    print(f\"Training Loss : {nn.L1Loss()(load_model_0(X_train),y_train)}\")\n",
    "    print(f\"Testing  Loss : {nn.L1Loss()(load_model_0(X_test),y_test)}\")"
   ],
   "metadata": {
    "collapsed": false,
    "pycharm": {
     "name": "#%%\n"
    }
   }
  },
  {
   "cell_type": "markdown",
   "source": [
    "# Putting all together"
   ],
   "metadata": {
    "collapsed": false,
    "pycharm": {
     "name": "#%% md\n"
    }
   }
  },
  {
   "cell_type": "code",
   "execution_count": 29,
   "outputs": [],
   "source": [
    "import torch\n",
    "from torch import nn\n",
    "import matplotlib.pyplot as plt\n"
   ],
   "metadata": {
    "collapsed": false,
    "pycharm": {
     "name": "#%%\n"
    }
   }
  },
  {
   "cell_type": "markdown",
   "source": [
    "## Create device agnostic code"
   ],
   "metadata": {
    "collapsed": false,
    "pycharm": {
     "name": "#%% md\n"
    }
   }
  },
  {
   "cell_type": "code",
   "execution_count": 27,
   "outputs": [
    {
     "name": "stdout",
     "output_type": "stream",
     "text": [
      "using Device : cpu\n"
     ]
    }
   ],
   "source": [
    "# setup device agnostic code\n",
    "device = \"cuda\" if torch.cuda.is_available() else \"cpu\"\n",
    "print(f'using Device : {device}')"
   ],
   "metadata": {
    "collapsed": false,
    "pycharm": {
     "name": "#%%\n"
    }
   }
  },
  {
   "cell_type": "markdown",
   "source": [
    "## Data"
   ],
   "metadata": {
    "collapsed": false,
    "pycharm": {
     "name": "#%% md\n"
    }
   }
  },
  {
   "cell_type": "code",
   "execution_count": 30,
   "outputs": [
    {
     "data": {
      "text/plain": "(torch.Size([50, 1]), torch.Size([50, 1]))"
     },
     "execution_count": 30,
     "metadata": {},
     "output_type": "execute_result"
    }
   ],
   "source": [
    "# data for the linear regression\n",
    "weight = 0.7\n",
    "bias = 0.3\n",
    "\n",
    "# create the dummy data\n",
    "X = torch.linspace(start=0.0,end=1.0,steps=50).unsqueeze(dim=1)\n",
    "y = weight * X + bias\n",
    "\n",
    "X.shape,y.shape\n"
   ],
   "metadata": {
    "collapsed": false,
    "pycharm": {
     "name": "#%%\n"
    }
   }
  },
  {
   "cell_type": "code",
   "execution_count": 32,
   "outputs": [
    {
     "data": {
      "text/plain": "(torch.Size([40, 1]),\n torch.Size([10, 1]),\n torch.Size([40, 1]),\n torch.Size([10, 1]))"
     },
     "execution_count": 32,
     "metadata": {},
     "output_type": "execute_result"
    }
   ],
   "source": [
    "train_size = int(0.8 * len(X))\n",
    "\n",
    "X_train ,X_test = X.split(train_size)\n",
    "y_train,y_test = y.split(train_size)\n",
    "\n",
    "X_train.shape,X_test.shape,y_train.shape,y_test.shape"
   ],
   "metadata": {
    "collapsed": false,
    "pycharm": {
     "name": "#%%\n"
    }
   }
  },
  {
   "cell_type": "code",
   "execution_count": 33,
   "outputs": [
    {
     "data": {
      "text/plain": "<Figure size 400x300 with 1 Axes>",
      "image/png": "[encoded data removed]"
     },
     "metadata": {},
     "output_type": "display_data"
    }
   ],
   "source": [
    "# plot the data\n",
    "plot_predictions(X_train,y_train,X_test,y_test)"
   ],
   "metadata": {
    "collapsed": false,
    "pycharm": {
     "name": "#%%\n"
    }
   }
  },
  {
   "cell_type": "markdown",
   "source": [
    "## Build the model"
   ],
   "metadata": {
    "collapsed": false,
    "pycharm": {
     "name": "#%% md\n"
    }
   }
  },
  {
   "cell_type": "code",
   "execution_count": 48,
   "outputs": [],
   "source": [
    "class LinearRegressionV2(nn.Module):\n",
    "    def __init__(self):\n",
    "        super().__init__()\n",
    "        # use the nn.Linear() for creating the model parameters\n",
    "        self.linear_layer = nn.Linear(in_features=1,\n",
    "                                      out_features=1,\n",
    "                                      bias=True)\n",
    "    def forward(self,x:torch.Tensor)->torch.Tensor:\n",
    "        return self.linear_layer(x)"
   ],
   "metadata": {
    "collapsed": false,
    "pycharm": {
     "name": "#%%\n"
    }
   }
  },
  {
   "cell_type": "code",
   "execution_count": 49,
   "outputs": [
    {
     "data": {
      "text/plain": "(LinearRegressionV2(\n   (linear_layer): Linear(in_features=1, out_features=1, bias=True)\n ),\n OrderedDict([('linear_layer.weight', tensor([[0.7645]])),\n              ('linear_layer.bias', tensor([0.8300]))]))"
     },
     "execution_count": 49,
     "metadata": {},
     "output_type": "execute_result"
    }
   ],
   "source": [
    "# set the manual seed\n",
    "torch.manual_seed(42)\n",
    "model_1 = LinearRegressionV2()\n",
    "model_1 ,model_1.state_dict()"
   ],
   "metadata": {
    "collapsed": false,
    "pycharm": {
     "name": "#%%\n"
    }
   }
  },
  {
   "cell_type": "code",
   "execution_count": 50,
   "outputs": [
    {
     "data": {
      "text/plain": "device(type='cpu')"
     },
     "execution_count": 50,
     "metadata": {},
     "output_type": "execute_result"
    }
   ],
   "source": [
    "list(model_1.parameters())[0].device"
   ],
   "metadata": {
    "collapsed": false,
    "pycharm": {
     "name": "#%%\n"
    }
   }
  },
  {
   "cell_type": "code",
   "execution_count": 51,
   "outputs": [
    {
     "data": {
      "text/plain": "LinearRegressionV2(\n  (linear_layer): Linear(in_features=1, out_features=1, bias=True)\n)"
     },
     "execution_count": 51,
     "metadata": {},
     "output_type": "execute_result"
    }
   ],
   "source": [
    "# set the model to target device\n",
    "model_1.to(device)"
   ],
   "metadata": {
    "collapsed": false,
    "pycharm": {
     "name": "#%%\n"
    }
   }
  },
  {
   "cell_type": "markdown",
   "source": [
    "## Training the model"
   ],
   "metadata": {
    "collapsed": false,
    "pycharm": {
     "name": "#%% md\n"
    }
   }
  },
  {
   "cell_type": "code",
   "execution_count": 52,
   "outputs": [],
   "source": [
    "# setting the loss function\n",
    "loss_fn = nn.L1Loss()\n",
    "\n",
    "# setting the optimiser\n",
    "optimizer = torch.optim.SGD(params=model_1.parameters(),\n",
    "                            lr=0.01)"
   ],
   "metadata": {
    "collapsed": false,
    "pycharm": {
     "name": "#%%\n"
    }
   }
  },
  {
   "cell_type": "code",
   "execution_count": 53,
   "outputs": [
    {
     "name": "stdout",
     "output_type": "stream",
     "text": [
      "Epoch: 9 | Train Loss : 0.451438 | Test Loss : 0.452479\n",
      "Epoch: 19 | Train Loss : 0.335601 | Test Loss : 0.316338\n",
      "Epoch: 29 | Train Loss : 0.219764 | Test Loss : 0.180197\n",
      "Epoch: 39 | Train Loss : 0.103928 | Test Loss : 0.044056\n",
      "Epoch: 49 | Train Loss : 0.025611 | Test Loss : 0.048302\n",
      "Epoch: 59 | Train Loss : 0.021157 | Test Loss : 0.048532\n",
      "Epoch: 69 | Train Loss : 0.017601 | Test Loss : 0.040325\n",
      "Epoch: 79 | Train Loss : 0.014045 | Test Loss : 0.032117\n",
      "Epoch: 89 | Train Loss : 0.010489 | Test Loss : 0.023910\n",
      "Epoch: 99 | Train Loss : 0.006933 | Test Loss : 0.015702\n",
      "Epoch: 109 | Train Loss : 0.003380 | Test Loss : 0.006800\n",
      "Epoch: 119 | Train Loss : 0.009001 | Test Loss : 0.000755\n",
      "Epoch: 129 | Train Loss : 0.009001 | Test Loss : 0.000755\n",
      "Epoch: 139 | Train Loss : 0.009001 | Test Loss : 0.000755\n",
      "Epoch: 149 | Train Loss : 0.009001 | Test Loss : 0.000755\n",
      "Epoch: 159 | Train Loss : 0.009001 | Test Loss : 0.000755\n",
      "Epoch: 169 | Train Loss : 0.009001 | Test Loss : 0.000755\n",
      "Epoch: 179 | Train Loss : 0.009001 | Test Loss : 0.000755\n",
      "Epoch: 189 | Train Loss : 0.009001 | Test Loss : 0.000755\n",
      "Epoch: 199 | Train Loss : 0.009001 | Test Loss : 0.000755\n"
     ]
    }
   ],
   "source": [
    "from  collections import defaultdict\n",
    "# training loop\n",
    "torch.manual_seed(42)\n",
    "\n",
    "epochs = 200\n",
    "\n",
    "# put the data into the device\n",
    "X_train = X_train.to(device)\n",
    "X_test = X_test.to(device)\n",
    "y_train = y_train.to(device)\n",
    "y_test = y_test.to(device)\n",
    "\n",
    "# store the loss during the epoch\n",
    "history = defaultdict(list)\n",
    "\n",
    "for epoch in range(epochs):\n",
    "    # set the model in train mode\n",
    "    model_1.train()\n",
    "\n",
    "    # forward pass\n",
    "    y_pred = model_1(X_train)\n",
    "\n",
    "    # calculate the loss\n",
    "    loss = loss_fn(y_pred,y_train)\n",
    "\n",
    "    # set the optimizer zero grad\n",
    "    optimizer.zero_grad()\n",
    "\n",
    "    # back propagate\n",
    "    loss.backward()\n",
    "\n",
    "    # update the weights\n",
    "    optimizer.step()\n",
    "\n",
    "    ### Testing loops\n",
    "    model_1.eval()\n",
    "    with torch.inference_mode():\n",
    "        test_pred = model_1(X_test)\n",
    "        test_loss = loss_fn(test_pred,y_test)\n",
    "\n",
    "    if (epoch+1) % 10 == 0:\n",
    "        history[\"epoch\"].append(epoch)\n",
    "        history[\"train_loss\"].append(loss.item())\n",
    "        history[\"test_loss\"].append(test_loss.item())\n",
    "        print(f\"Epoch: {epoch} | Train Loss : {loss.item():.6f} | Test Loss : {test_loss.item():.6f}\")"
   ],
   "metadata": {
    "collapsed": false,
    "pycharm": {
     "name": "#%%\n"
    }
   }
  },
  {
   "cell_type": "code",
   "execution_count": 54,
   "outputs": [
    {
     "data": {
      "text/plain": "OrderedDict([('linear_layer.weight', tensor([[0.6964]])),\n             ('linear_layer.bias', tensor([0.3040]))])"
     },
     "execution_count": 54,
     "metadata": {},
     "output_type": "execute_result"
    }
   ],
   "source": [
    "model_1.state_dict()"
   ],
   "metadata": {
    "collapsed": false,
    "pycharm": {
     "name": "#%%\n"
    }
   }
  },
  {
   "cell_type": "code",
   "execution_count": 56,
   "outputs": [
    {
     "data": {
      "text/plain": "<matplotlib.legend.Legend at 0x1623d831f40>"
     },
     "execution_count": 56,
     "metadata": {},
     "output_type": "execute_result"
    },
    {
     "data": {
      "text/plain": "<Figure size 640x480 with 1 Axes>",
      "image/png": "[encoded data removed]"
     },
     "metadata": {},
     "output_type": "display_data"
    }
   ],
   "source": [
    "plt.plot(history[\"epoch\"],history[\"train_loss\"],label=\"Training_loss\")\n",
    "plt.plot(history[\"epoch\"],history[\"test_loss\"],label=\"Testing loss\")\n",
    "plt.legend()"
   ],
   "metadata": {
    "collapsed": false,
    "pycharm": {
     "name": "#%%\n"
    }
   }
  },
  {
   "cell_type": "markdown",
   "source": [
    "## Saving and Loading model"
   ],
   "metadata": {
    "collapsed": false,
    "pycharm": {
     "name": "#%% md\n"
    }
   }
  },
  {
   "cell_type": "code",
   "execution_count": 58,
   "outputs": [],
   "source": [
    "from pathlib import Path\n",
    "\n",
    "MODEL_PATH = Path(\"models\")\n",
    "MODEL_PATH.mkdir(parents=True,exist_ok=True)\n",
    "\n",
    "MODEl_NAME = \"02_workflow_model_02.pth\"\n",
    "MODEL_SAVE_PATH = MODEL_PATH /MODEl_NAME\n",
    "\n",
    "torch.save(obj=model_1.state_dict(),\n",
    "           f=MODEL_SAVE_PATH)"
   ],
   "metadata": {
    "collapsed": false,
    "pycharm": {
     "name": "#%%\n"
    }
   }
  },
  {
   "cell_type": "code",
   "execution_count": 61,
   "outputs": [
    {
     "name": "stdout",
     "output_type": "stream",
     "text": [
      "Original Model : \n",
      "\tTraining Loss :0.002583\n",
      "\tTesting Loss:0.000755\n",
      "Loaded Model : \n",
      "\tTraining Loss :0.002583\n",
      "\tTesting Loss:0.000755\n"
     ]
    }
   ],
   "source": [
    "# load the model\n",
    "load_model_1 = LinearRegressionV2()\n",
    "\n",
    "load_model_1.load_state_dict(torch.load(MODEL_SAVE_PATH,map_location=torch.device(device)))\n",
    "\n",
    "\n",
    "model_1.eval()\n",
    "load_model_1.eval()\n",
    "with torch.inference_mode():\n",
    "    print(f\"Original Model : \\n\\tTraining Loss :{nn.L1Loss()(model_1(X_train),y_train):.6f}\\n\\tTesting Loss:{nn.L1Loss()(model_1(X_test),y_test):.6f}\")\n",
    "    print(f\"Loaded Model : \\n\\tTraining Loss :{nn.L1Loss()(load_model_1(X_train),y_train):.6f}\\n\\tTesting Loss:{nn.L1Loss()(load_model_1(X_test),y_test):.6f}\")"
   ],
   "metadata": {
    "collapsed": false,
    "pycharm": {
     "name": "#%%\n"
    }
   }
  },
  {
   "cell_type": "code",
   "execution_count": null,
   "outputs": [],
   "source": [],
   "metadata": {
    "collapsed": false,
    "pycharm": {
     "name": "#%%\n"
    }
   }
  }
 ],
 "metadata": {
  "kernelspec": {
   "display_name": "Python 3",
   "language": "python",
   "name": "python3"
  },
  "language_info": {
   "codemirror_mode": {
    "name": "ipython",
    "version": 2
   },
   "file_extension": ".py",
   "mimetype": "text/x-python",
   "name": "python",
   "nbconvert_exporter": "python",
   "pygments_lexer": "ipython2",
   "version": "2.7.6"
  }
 },
 "nbformat": 4,
 "nbformat_minor": 0
}